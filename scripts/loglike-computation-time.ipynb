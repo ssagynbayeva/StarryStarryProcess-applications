{
 "cells": [
  {
   "cell_type": "code",
   "execution_count": 1,
   "metadata": {},
   "outputs": [],
   "source": [
    "import os\n",
    "os.environ['OMP_NUM_THREADS'] = '1'"
   ]
  },
  {
   "cell_type": "code",
   "execution_count": 2,
   "metadata": {},
   "outputs": [
    {
     "name": "stderr",
     "output_type": "stream",
     "text": [
      "WARNING (theano.link.c.cmodule): install mkl with `conda install mkl-service`: No module named 'mkl'\n",
      "The version of PyMC you are using is very outdated.\n",
      "\n",
      "Please upgrade to the latest version of PyMC https://www.pymc.io/projects/docs/en/stable/installation.html\n",
      "\n",
      "Also notice that PyMC3 has been renamed to PyMC.\n",
      "/Users/sabina/miniconda3/envs/starry-env/lib/python3.9/site-packages/lightkurve/config/__init__.py:119: UserWarning: The default Lightkurve cache directory, used by download(), etc., has been moved to /Users/sabina/.lightkurve/cache. Please move all the files in the legacy directory /Users/sabina/.lightkurve-cache to the new location and remove the legacy directory. Refer to https://docs.lightkurve.org/reference/config.html#default-cache-directory-migration for more information.\n",
      "  warnings.warn(\n"
     ]
    }
   ],
   "source": [
    "import starry\n",
    "import matplotlib.pyplot as plt\n",
    "import numpy as np\n",
    "import pymc3 as pm\n",
    "import pymc3.math as pmm\n",
    "import pymc3_ext as pmx\n",
    "import exoplanet\n",
    "from starry_process import StarryProcess, MCMCInterface\n",
    "from starry_process.math import cho_factor, cho_solve\n",
    "import starry_process \n",
    "import theano\n",
    "theano.config.gcc__cxxflags += \" -fexceptions\"\n",
    "theano.config.on_opt_error = \"raise\"\n",
    "theano.tensor.opt.constant_folding\n",
    "# theano.graph.opt.EquilibriumOptimizer\n",
    "mode = theano.compile.mode.get_default_mode().excluding('scanOp_pushout_output')\n",
    "import aesara_theano_fallback.tensor as tt\n",
    "from theano.tensor.slinalg import cholesky\n",
    "from corner import corner\n",
    "import arviz as az\n",
    "from matplotlib.colors import Normalize\n",
    "from mpl_toolkits.axes_grid1.inset_locator import inset_axes\n",
    "import os\n",
    "from tqdm import tqdm\n",
    "from theano.tensor.random.utils import RandomStream\n",
    "import scipy.linalg as sl\n",
    "import scipy.stats as ss\n",
    "from mpl_toolkits.axes_grid1.inset_locator import inset_axes\n",
    "import lightkurve as lk\n",
    "import exoplanet as xo\n",
    "import ffmpeg\n",
    "\n",
    "starry.config.quiet = True\n",
    "np.random.seed(1)\n",
    "\n",
    "import warnings\n",
    "\n",
    "# Ignore all warnings (not recommended, might hide other important warnings)\n",
    "warnings.filterwarnings(\"ignore\")\n",
    "\n",
    "# Ignore specific warning by type\n",
    "warnings.filterwarnings(\"ignore\", message=\"Cannot construct a scalar test value from a test value with no size\")\n",
    "\n",
    "# Set logging level to ignore these warnings (recommended)\n",
    "import logging\n",
    "logger = logging.getLogger(\"theano.tensor.opt\")\n",
    "logger.setLevel(logging.ERROR)\n"
   ]
  },
  {
   "cell_type": "code",
   "execution_count": 3,
   "metadata": {},
   "outputs": [],
   "source": [
    "import sys\n",
    "sys.path.insert(1, '/Users/sabina/Desktop/GitHub/starry-project/scripts')\n",
    "\n",
    "from starry_starry_process import StarryStarryProcess"
   ]
  },
  {
   "cell_type": "code",
   "execution_count": 32,
   "metadata": {},
   "outputs": [],
   "source": [
    "t = np.zeros(1000000)\n",
    "flux = np.ones(1000000)\n",
    "sigma_flux = np.ones(1000000)"
   ]
  },
  {
   "cell_type": "code",
   "execution_count": 27,
   "metadata": {},
   "outputs": [],
   "source": [
    "sp = StarryProcess(\n",
    "        mu = 30,\n",
    "        sigma = 5,\n",
    "        c = 0.5,\n",
    "        r = 20,\n",
    "        n = 3,\n",
    "        ydeg = 20,\n",
    "    )"
   ]
  },
  {
   "cell_type": "code",
   "execution_count": 28,
   "metadata": {},
   "outputs": [],
   "source": [
    "map = starry.Map(ydeg=20)\n",
    "map.inc = 80\n",
    "\n",
    "star = starry.Primary(map, \n",
    "    r=1, \n",
    "    m=1, \n",
    "    prot=5)\n",
    "\n",
    "planet = starry.kepler.Secondary(starry.Map(0,0), \n",
    "    t0=0, \n",
    "    r=0, \n",
    "    m=0, \n",
    "    porb=1)\n",
    "\n",
    "sys = starry.System(star, planet)"
   ]
  },
  {
   "cell_type": "code",
   "execution_count": 29,
   "metadata": {},
   "outputs": [],
   "source": [
    "ssp = StarryStarryProcess(sys, sp)"
   ]
  },
  {
   "cell_type": "code",
   "execution_count": 33,
   "metadata": {},
   "outputs": [
    {
     "name": "stdout",
     "output_type": "stream",
     "text": [
      "CPU times: user 54.2 s, sys: 3min 54s, total: 4min 48s\n",
      "Wall time: 7min 40s\n"
     ]
    },
    {
     "data": {
      "text/plain": [
       "array(-918944.52202258)"
      ]
     },
     "execution_count": 33,
     "metadata": {},
     "output_type": "execute_result"
    }
   ],
   "source": [
    "%%time\n",
    "ssp.compute(t, flux, sigma_flux)\n",
    "ssp.marginal_likelihood(t, flux, sigma_flux).eval()"
   ]
  },
  {
   "cell_type": "code",
   "execution_count": null,
   "metadata": {},
   "outputs": [],
   "source": []
  }
 ],
 "metadata": {
  "kernelspec": {
   "display_name": "starry-env",
   "language": "python",
   "name": "python3"
  },
  "language_info": {
   "codemirror_mode": {
    "name": "ipython",
    "version": 3
   },
   "file_extension": ".py",
   "mimetype": "text/x-python",
   "name": "python",
   "nbconvert_exporter": "python",
   "pygments_lexer": "ipython3",
   "version": "3.9.19"
  }
 },
 "nbformat": 4,
 "nbformat_minor": 2
}
